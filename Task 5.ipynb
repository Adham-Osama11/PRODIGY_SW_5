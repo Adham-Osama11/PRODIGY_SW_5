{
  "nbformat": 4,
  "nbformat_minor": 0,
  "metadata": {
    "colab": {
      "provenance": []
    },
    "kernelspec": {
      "name": "python3",
      "display_name": "Python 3"
    },
    "language_info": {
      "name": "python"
    }
  },
  "cells": [
    {
      "cell_type": "code",
      "source": [
        "pip install requests beautifulsoup4\n"
      ],
      "metadata": {
        "colab": {
          "base_uri": "https://localhost:8080/"
        },
        "id": "eMROYRWBixcc",
        "outputId": "4e103cdf-79a7-4e71-831e-8d326670e8eb"
      },
      "execution_count": 1,
      "outputs": [
        {
          "output_type": "stream",
          "name": "stdout",
          "text": [
            "Requirement already satisfied: requests in /usr/local/lib/python3.10/dist-packages (2.31.0)\n",
            "Requirement already satisfied: beautifulsoup4 in /usr/local/lib/python3.10/dist-packages (4.12.3)\n",
            "Requirement already satisfied: charset-normalizer<4,>=2 in /usr/local/lib/python3.10/dist-packages (from requests) (3.3.2)\n",
            "Requirement already satisfied: idna<4,>=2.5 in /usr/local/lib/python3.10/dist-packages (from requests) (3.6)\n",
            "Requirement already satisfied: urllib3<3,>=1.21.1 in /usr/local/lib/python3.10/dist-packages (from requests) (2.0.7)\n",
            "Requirement already satisfied: certifi>=2017.4.17 in /usr/local/lib/python3.10/dist-packages (from requests) (2024.2.2)\n",
            "Requirement already satisfied: soupsieve>1.2 in /usr/local/lib/python3.10/dist-packages (from beautifulsoup4) (2.5)\n"
          ]
        }
      ]
    },
    {
      "cell_type": "code",
      "execution_count": 2,
      "metadata": {
        "colab": {
          "base_uri": "https://localhost:8080/"
        },
        "id": "MvGVBPLbiqjr",
        "outputId": "952bff24-77dd-424c-c3b1-12ca3b5958d0"
      },
      "outputs": [
        {
          "output_type": "stream",
          "name": "stdout",
          "text": [
            "Saved 20 products to products.csv\n"
          ]
        }
      ],
      "source": [
        "\n",
        "\n",
        "import requests\n",
        "from bs4 import BeautifulSoup\n",
        "import csv\n",
        "\n",
        "def fetch_product_info(url):\n",
        "    # Send a GET request to the URL\n",
        "    response = requests.get(url)\n",
        "    # Parse the HTML content\n",
        "    soup = BeautifulSoup(response.text, 'html.parser')\n",
        "    # Find all products in the page (adjust the selector based on the actual structure of the site)\n",
        "    products = soup.find_all(\"article\", class_=\"product_pod\")\n",
        "\n",
        "    product_info_list = []\n",
        "\n",
        "    for product in products:\n",
        "        # Extract product name, price, and rating (adjust based on actual site structure)\n",
        "        name = product.find(\"h3\").find(\"a\")[\"title\"]\n",
        "        price = product.find(\"p\", class_=\"price_color\").text\n",
        "        # The site uses classes to indicate rating, this extracts the class and parses the rating\n",
        "        rating = product.find(\"p\", class_=\"star-rating\")[\"class\"][1]\n",
        "\n",
        "        product_info = {\n",
        "            \"name\": name,\n",
        "            \"price\": price,\n",
        "            \"rating\": rating\n",
        "        }\n",
        "        product_info_list.append(product_info)\n",
        "\n",
        "    return product_info_list\n",
        "\n",
        "def save_to_csv(products, filename=\"products.csv\"):\n",
        "    with open(filename, mode='w', newline='', encoding='utf-8') as file:\n",
        "        writer = csv.DictWriter(file, fieldnames=[\"name\", \"price\", \"rating\"])\n",
        "        writer.writeheader()\n",
        "        for product in products:\n",
        "            writer.writerow(product)\n",
        "\n",
        "# URL of the site to scrape\n",
        "url = \"http://books.toscrape.com/catalogue/category/books_1/index.html\"\n",
        "products = fetch_product_info(url)\n",
        "save_to_csv(products)\n",
        "print(f\"Saved {len(products)} products to products.csv\")\n"
      ]
    },
    {
      "cell_type": "code",
      "source": [],
      "metadata": {
        "id": "fibubxcQi4pg"
      },
      "execution_count": null,
      "outputs": []
    }
  ]
}